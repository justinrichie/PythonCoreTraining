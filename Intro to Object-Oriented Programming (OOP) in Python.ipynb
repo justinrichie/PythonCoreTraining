{
 "cells": [
  {
   "cell_type": "markdown",
   "metadata": {},
   "source": [
    "# Intro to Object-Oriented Programming (OOP) in Python"
   ]
  },
  {
   "cell_type": "markdown",
   "metadata": {},
   "source": [
    "https://realpython.com/python3-object-oriented-programming/"
   ]
  },
  {
   "cell_type": "markdown",
   "metadata": {},
   "source": [
    "<div class=\"alert alert-block alert-success\"> Adding Attributes to a Python Class. </div>"
   ]
  },
  {
   "cell_type": "code",
   "execution_count": 29,
   "metadata": {},
   "outputs": [],
   "source": [
    "class Dog: \n",
    "    species = \"mammal\"\n",
    "    \n",
    "    def __init__ (self,name,age):\n",
    "        self.name=name\n",
    "        self.age=age\n",
    "        \n"
   ]
  },
  {
   "cell_type": "code",
   "execution_count": 35,
   "metadata": {},
   "outputs": [],
   "source": [
    "# We can instantiate our Dog class like this\n",
    "philo = Dog(\"Philo\",5)\n",
    "mikey = Dog(\"Mikey\",6)"
   ]
  },
  {
   "cell_type": "code",
   "execution_count": 31,
   "metadata": {},
   "outputs": [
    {
     "name": "stdout",
     "output_type": "stream",
     "text": [
      "Philo\n",
      "5\n"
     ]
    }
   ],
   "source": [
    "# We can access the instance attributes with dot notation.\n",
    "print(philo.name)\n",
    "print(philo.age)"
   ]
  },
  {
   "cell_type": "code",
   "execution_count": 32,
   "metadata": {},
   "outputs": [
    {
     "name": "stdout",
     "output_type": "stream",
     "text": [
      "Philo is 5 and Mikey is 6.\n"
     ]
    }
   ],
   "source": [
    "print(\"{} is {} and {} is {}.\".format(philo.name, philo.age,mikey.name,mikey.age))"
   ]
  },
  {
   "cell_type": "code",
   "execution_count": 33,
   "metadata": {},
   "outputs": [],
   "source": [
    "mikey.age=7\n",
    "\n",
    "#philo.species=\"mouse\""
   ]
  },
  {
   "cell_type": "code",
   "execution_count": 34,
   "metadata": {},
   "outputs": [
    {
     "name": "stdout",
     "output_type": "stream",
     "text": [
      "Philo is a mammal\n"
     ]
    }
   ],
   "source": [
    "if philo.species == \"mammal\":\n",
    "    print(\"{} is a {}\".format(philo.name, philo.species))\n",
    "    \n",
    "    #else \n",
    "    #print(\"Not Mammal\")"
   ]
  },
  {
   "cell_type": "markdown",
   "metadata": {},
   "source": [
    "<div class=\"alert alert-block alert-success\"> Adding Methods\n",
    "    to a Python Class. </div>"
   ]
  },
  {
   "cell_type": "code",
   "execution_count": 1,
   "metadata": {},
   "outputs": [],
   "source": [
    "class Dog:\n",
    "\n",
    "    species = 'mammal'\n",
    "\n",
    "    def __init__(self, name, age):\n",
    "        self.name = name\n",
    "        self.age = age\n",
    "\n",
    "    def speak(self, sound):\n",
    "        print(f\"{self.name} says {sound}\")"
   ]
  },
  {
   "cell_type": "code",
   "execution_count": 6,
   "metadata": {},
   "outputs": [
    {
     "name": "stdout",
     "output_type": "stream",
     "text": [
      "Philo says Gruff gruff!\n"
     ]
    }
   ],
   "source": [
    "philo = Dog(\"Philo\", 5)\n",
    "philo.speak(\"Gruff gruff!\")\n"
   ]
  },
  {
   "cell_type": "code",
   "execution_count": 15,
   "metadata": {},
   "outputs": [],
   "source": [
    "class Dog:\n",
    "\n",
    "    species = 'mammal'\n",
    "\n",
    "    def __init__(self, name, age):\n",
    "        self.name = name\n",
    "        self.age = age\n",
    "    \n",
    "    def description(self):\n",
    "        return \"{} is {} years old\".format(self.name, self.age)\n",
    "\n",
    "    \n",
    "    def speak(self, sound):\n",
    "        print(f\"{self.name} says {sound}\")\n",
    "        \n",
    "\n",
    "    def birthday(self):\n",
    "        self.age +=1\n",
    "        "
   ]
  },
  {
   "cell_type": "code",
   "execution_count": 17,
   "metadata": {},
   "outputs": [
    {
     "name": "stdout",
     "output_type": "stream",
     "text": [
      "Mikey is 6 years old\n",
      "Mikey says Ruf Ruf\n",
      "None\n",
      "Mikey is 7 years old\n"
     ]
    }
   ],
   "source": [
    "mikey = Dog (\"Mikey\",6)\n",
    "print(mikey.description())\n",
    "print(mikey.speak(\"Ruf Ruf\"))\n",
    "mikey.birthday()\n",
    "print(mikey.description())\n"
   ]
  },
  {
   "cell_type": "markdown",
   "metadata": {},
   "source": [
    "<div class=\"alert alert-block alert-success\"> Inheritance. </div>"
   ]
  },
  {
   "cell_type": "code",
   "execution_count": 8,
   "metadata": {},
   "outputs": [],
   "source": [
    "#Another Example"
   ]
  },
  {
   "cell_type": "code",
   "execution_count": 9,
   "metadata": {},
   "outputs": [],
   "source": [
    "class Person:\n",
    "\n",
    "    description = 'general person'\n",
    "\n",
    "    def __init__(self, name, age):\n",
    "        self.name = name\n",
    "        self.age = age\n",
    "        \n",
    "    def speak(self):\n",
    "        print (\"My Name is {} and I am {} years old\".format(self.name, self.age))\n",
    "        \n",
    "    def eat(self,food):\n",
    "        print (\"{} eats {}\".format(self.name,food))\n",
    "        \n",
    "    def action(self):\n",
    "        print(\"{} jumps\".format(self.name))\n",
    "        \n",
    "        \n",
    "class Baby(Person):\n",
    "    \n",
    "    description = 'baby'\n",
    "    \n",
    "    def speak(self):\n",
    "        print(\"Goo Goo Gah Gah\")\n",
    "        \n",
    "    def nap(self):\n",
    "        print(\"{} takes a nap\".format(self.name))\n",
    "    \n",
    "\n",
    "        "
   ]
  },
  {
   "cell_type": "code",
   "execution_count": 10,
   "metadata": {},
   "outputs": [
    {
     "name": "stdout",
     "output_type": "stream",
     "text": [
      "My Name is Steve and I am 20 years old\n",
      "Steve eats Pasta\n",
      "Steve jumps\n"
     ]
    }
   ],
   "source": [
    "person = Person(\"Steve\",20)\n",
    "person.speak()\n",
    "person.eat(\"Pasta\")\n",
    "person.action()"
   ]
  },
  {
   "cell_type": "code",
   "execution_count": 11,
   "metadata": {},
   "outputs": [
    {
     "name": "stdout",
     "output_type": "stream",
     "text": [
      "Goo Goo Gah Gah\n",
      "Ian eats Baby Food\n",
      "Ian jumps\n"
     ]
    }
   ],
   "source": [
    "baby=Baby(\"Ian\",1)\n",
    "baby.speak()\n",
    "baby.eat(\"Baby Food\")\n",
    "baby.action()\n"
   ]
  },
  {
   "cell_type": "code",
   "execution_count": 12,
   "metadata": {},
   "outputs": [
    {
     "name": "stdout",
     "output_type": "stream",
     "text": [
      "general person\n"
     ]
    }
   ],
   "source": [
    "print(person.description)"
   ]
  },
  {
   "cell_type": "code",
   "execution_count": 13,
   "metadata": {},
   "outputs": [
    {
     "name": "stdout",
     "output_type": "stream",
     "text": [
      "baby\n"
     ]
    }
   ],
   "source": [
    "print(baby.description)"
   ]
  },
  {
   "cell_type": "code",
   "execution_count": 14,
   "metadata": {},
   "outputs": [
    {
     "name": "stdout",
     "output_type": "stream",
     "text": [
      "True\n"
     ]
    }
   ],
   "source": [
    "print(isinstance(baby,object))"
   ]
  },
  {
   "cell_type": "code",
   "execution_count": null,
   "metadata": {},
   "outputs": [],
   "source": []
  }
 ],
 "metadata": {
  "kernelspec": {
   "display_name": "Python 3",
   "language": "python",
   "name": "python3"
  },
  "language_info": {
   "codemirror_mode": {
    "name": "ipython",
    "version": 3
   },
   "file_extension": ".py",
   "mimetype": "text/x-python",
   "name": "python",
   "nbconvert_exporter": "python",
   "pygments_lexer": "ipython3",
   "version": "3.7.6"
  }
 },
 "nbformat": 4,
 "nbformat_minor": 4
}
